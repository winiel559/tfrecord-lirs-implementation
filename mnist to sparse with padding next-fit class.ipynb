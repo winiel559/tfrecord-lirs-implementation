{
 "cells": [
  {
   "cell_type": "markdown",
   "metadata": {},
   "source": [
    "# Define the data type of the features"
   ]
  },
  {
   "cell_type": "code",
   "execution_count": null,
   "metadata": {},
   "outputs": [],
   "source": [
    "import tensorflow as tf\n",
    "import os\n",
    "import struct                                                                   \n",
    "import numpy as np                                                              \n",
    "import matplotlib.pyplot as plt                                                 \n",
    "from PIL import Image\n",
    "#https://medium.com/%E8%BB%9F%E9%AB%94%E4%B9%8B%E5%BF%83/%E9%81%A9%E5%90%88%E5%A4%A7%E9%87%8F%E8%B3%87%E6%96%99i-o%E7%9A%84%E5%84%B2%E5%AD%98%E6%A0%BC%E5%BC%8F-tfrecord%E7%B0%A1%E4%BB%8B%E8%88%87%E6%93%8D%E4%BD%9C%E6%95%99%E5%AD%B8-cd27e50d51ee\n",
    "\n",
    "# mnist one example consists of 28*28 byte + 1 byte\n",
    "# if _bytes_feature's args is alreaddy a list, no need to use []\n",
    "def _image_feature(value):\n",
    "    \"\"\"\"Returns a uint8(byte)_list from a byte.\"\"\"\n",
    "    if isinstance(value, type(tf.constant(0))):\n",
    "        # BytesList won't unpack a string from an EagerTensor.\n",
    "        value = value.numpy()\n",
    "    return tf.train.Feature(bytes_list=tf.train.BytesList(value=[value]))\n",
    "\n",
    "def _label_feature(value):\n",
    "    \"\"\"Returns a uint8(byte)_list from a byte.\"\"\"\n",
    "    return tf.train.Feature(bytes_list=tf.train.BytesList(value=[value]))\n",
    "\n",
    "def serialize_example(_label, _image):\n",
    "    feature = {\n",
    "        \"label\": _label_feature(_label),\n",
    "        \"image\": _image_feature(_image),\n",
    "        }\n",
    "    example_proto = tf.train.Example(features=tf.train.Features(feature=feature))\n",
    "    return example_proto.SerializeToString() "
   ]
  },
  {
   "cell_type": "markdown",
   "metadata": {},
   "source": [
    "# Construct the TFRecord from the dataset"
   ]
  },
  {
   "cell_type": "code",
   "execution_count": 2,
   "metadata": {},
   "outputs": [
    {
     "name": "stdout",
     "output_type": "stream",
     "text": [
      "0 4000 8000 12000 16000 20000 24000 28000 32000 36000 40000 44000 48000 52000 56000 "
     ]
    }
   ],
   "source": [
    "\"\"\" \"\"\"\n",
    "# the whole image is a byte feature, not a byte list\n",
    "import os\n",
    "import struct                                                                   \n",
    "import numpy as np                                                              \n",
    "import matplotlib.pyplot as plt\n",
    "from OffsetTableBuilder import OffsetTableBuilder\n",
    "from PIL import Image\n",
    "\n",
    "# raw data directory\n",
    "images_file_name = './train-images.idx3-ubyte'\n",
    "labels_file_name = './train-labels.idx1-ubyte'\n",
    "images_dir = './mnist jpeg/'\n",
    "\n",
    "# start reading the raw data\n",
    "mnist_images=open(images_file_name,'rb')\n",
    "mnist_labels=open(labels_file_name,'rb')\n",
    "# skip header file\n",
    "_=mnist_images.read(16)\n",
    "_=mnist_labels.read(8)\n",
    "\n",
    "# data\n",
    "# build offset_table while writing TFRecords, int64 for offset of each instance, e.g. offset of instance #100 is 100*8B=800B\n",
    "# byte is little endian\n",
    "\n",
    "# output data (TFRecord, offset table) directory\n",
    "tfr_filename=\"mnist_sparse_padded_class.tfrecords\"\n",
    "oft_filename=\"mnist-sparse_padded_calss-offset_table\"\n",
    "\n",
    "with tf.io.TFRecordWriter(tfr_filename) as writer:\n",
    "    # page size=4KB, padding to write to another page if the next instance exceeds the page\n",
    "    \n",
    "    \"\"\"padding needs to ne slightly modified: because padded record needs at least 16B, \n",
    "    instead of see if after_ptr exceeds, see if after_ptr+16 exceeds \"\"\"\n",
    "    oftbuilder=OffsetTableBuilder(tfr_filename,padding=True)\n",
    "    for i in range (60000):\n",
    "        # current tfr file ptr = current_filesize\n",
    "        with open(images_dir+str(i)+'.jpg','rb') as f:\n",
    "            buf=mnist_labels.read(1)\n",
    "            _label=buf\n",
    "            img_bytes=f.read()            \n",
    "            serialized_example = serialize_example(_label, img_bytes)\n",
    "            oftbuilder.calc_offset(serialized_example,writer)\n",
    "            if(i%4000==0):\n",
    "                print(i,end=' ')\n",
    "            writer.write(serialized_example)\n",
    "    oftbuilder.write(oft_filename)\n",
    "mnist_images.close()\n",
    "mnist_labels.close()"
   ]
  },
  {
   "cell_type": "markdown",
   "metadata": {},
   "source": [
    "# Cells below tests the correctness of the outputted TFRecord and offset table."
   ]
  },
  {
   "cell_type": "code",
   "execution_count": 1,
   "metadata": {},
   "outputs": [],
   "source": [
    "\"\"\" the read() function \"\"\"\n",
    "\n",
    "def sparse_random_read(binfile, oft, idx):\n",
    "    # read offset, 8B per instance\n",
    "    #TODO: oft should be loaded to mem\n",
    "    oft.seek(idx*8,0)\n",
    "    tmp=oft.read(8)\n",
    "    offset=struct.unpack(\"<Q\",tmp)[0]\n",
    "    print(\"offset=\",offset)\n",
    "    \n",
    "    # read data length\n",
    "    binfile.seek(offset,0)\n",
    "    tmp=binfile.read(8)\n",
    "    length=struct.unpack(\"<Q\",tmp)[0]\n",
    "    print(\"length=\",length)\n",
    "    # we already read first 8B\n",
    "    record_l_from_col2=length+8\n",
    "    \n",
    "    # random read\n",
    "    tmp=binfile.read(record_l_from_col2)\n",
    "    r_data=tmp[4:-4]\n",
    "\n",
    "    # deserialize data\n",
    "    parsed_features = _parse_function(r_data)\n",
    "    return parsed_features\n",
    "    \n",
    "    "
   ]
  },
  {
   "cell_type": "code",
   "execution_count": 17,
   "metadata": {},
   "outputs": [
    {
     "name": "stdout",
     "output_type": "stream",
     "text": [
      "offset= 2475\n",
      "length= 627\n",
      "tf.Tensor(b'\\t', shape=(), dtype=string)\n"
     ]
    },
    {
     "data": {
      "image/png": "[encoded data removed]",
      "text/plain": [
       "<Figure size 432x288 with 1 Axes>"
      ]
     },
     "metadata": {
      "needs_background": "light"
     },
     "output_type": "display_data"
    }
   ],
   "source": [
    "\"\"\" test read() function \"\"\"\n",
    "\n",
    "binfile=open('mnist_sparse_padded.tfrecords','rb')\n",
    "oftfile=open('mnist-sparse_padded-offset_table','rb')\n",
    "parsed_feature=sparse_random_read(binfile,oftfile, 4)\n",
    "image=tf.io.decode_jpeg(parsed_feature['image'])\n",
    "print(parsed_feature['label'])\n",
    "np_image=np.frombuffer(image, dtype='>B').astype(np.uint8)\n",
    "plt.imshow(np.asarray(np_image).reshape((28,28)),cmap = plt.cm.gray)                                        \n",
    "plt.show()\n",
    "\n",
    "binfile.close()\n",
    "oftfile.close()"
   ]
  },
  {
   "cell_type": "code",
   "execution_count": null,
   "metadata": {},
   "outputs": [],
   "source": []
  }
 ],
 "metadata": {
  "kernelspec": {
   "display_name": "Python 3",
   "language": "python",
   "name": "python3"
  },
  "language_info": {
   "codemirror_mode": {
    "name": "ipython",
    "version": 3
   },
   "file_extension": ".py",
   "mimetype": "text/x-python",
   "name": "python",
   "nbconvert_exporter": "python",
   "pygments_lexer": "ipython3",
   "version": "3.8.5"
  }
 },
 "nbformat": 4,
 "nbformat_minor": 4
}
