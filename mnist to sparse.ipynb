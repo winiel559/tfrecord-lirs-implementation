{
 "cells": [
  {
   "cell_type": "code",
   "execution_count": 44,
   "metadata": {},
   "outputs": [],
   "source": [
    "import tensorflow as tf\n",
    "#https://medium.com/%E8%BB%9F%E9%AB%94%E4%B9%8B%E5%BF%83/%E9%81%A9%E5%90%88%E5%A4%A7%E9%87%8F%E8%B3%87%E6%96%99i-o%E7%9A%84%E5%84%B2%E5%AD%98%E6%A0%BC%E5%BC%8F-tfrecord%E7%B0%A1%E4%BB%8B%E8%88%87%E6%93%8D%E4%BD%9C%E6%95%99%E5%AD%B8-cd27e50d51ee\n",
    "\n",
    "# mnist one example consists of 28*28 byte + 1 byte\n",
    "# if _bytes_feature's args is alreaddy a list, no need to use []\n",
    "def _image_feature(value):\n",
    "    \"\"\"\"Returns a uint8(byte)_list from a byte.\"\"\"\n",
    "    if isinstance(value, type(tf.constant(0))):\n",
    "        # BytesList won't unpack a string from an EagerTensor.\n",
    "        value = value.numpy()\n",
    "    return tf.train.Feature(bytes_list=tf.train.BytesList(value=[value]))\n",
    "\n",
    "def _label_feature(value):\n",
    "    \"\"\"Returns a uint8(byte)_list from a byte.\"\"\"\n",
    "    return tf.train.Feature(bytes_list=tf.train.BytesList(value=[value]))"
   ]
  },
  {
   "cell_type": "code",
   "execution_count": 46,
   "metadata": {},
   "outputs": [
    {
     "name": "stdout",
     "output_type": "stream",
     "text": [
      "0 offset= 0\n",
      "4000 offset= 2457808\n",
      "8000 offset= 4913529\n",
      "12000 offset= 7370026\n",
      "16000 offset= 9835680\n",
      "20000 offset= 12292118\n",
      "24000 offset= 14758044\n",
      "28000 offset= 17211337\n",
      "32000 offset= 19665418\n",
      "36000 offset= 22123890\n",
      "40000 offset= 24585380\n",
      "44000 offset= 27039937\n",
      "48000 offset= 29503891\n",
      "52000 offset= 31965363\n",
      "56000 offset= 34421808\n"
     ]
    }
   ],
   "source": [
    "\"\"\" transfer dataset to tfrecord method\"\"\"\n",
    "# the whole image is a byte feature, not a byte list\n",
    "import os\n",
    "import struct                                                                   \n",
    "import numpy as np                                                              \n",
    "import matplotlib.pyplot as plt                                                 \n",
    "from PIL import Image\n",
    "def serialize_example(_label, _image):\n",
    "    feature = {\n",
    "        \"label\": _label_feature(_label),\n",
    "        \"image\": _image_feature(_image),\n",
    "        }\n",
    "    example_proto = tf.train.Example(features=tf.train.Features(feature=feature))\n",
    "    return example_proto.SerializeToString() \n",
    "\n",
    "images_file_name = './train-images.idx3-ubyte'\n",
    "labels_file_name = './train-labels.idx1-ubyte'\n",
    "images_dir = './mnist jpeg/'\n",
    "mnist_images=open(images_file_name,'rb')\n",
    "mnist_labels=open(labels_file_name,'rb')\n",
    "# skip header file\n",
    "_=mnist_images.read(16)\n",
    "_=mnist_labels.read(8)\n",
    "\n",
    "# data\n",
    "# build offset_table while writing TFRecords, int64 for offset of each instance, e.g. offset of instance #100 is 100*8B=800B\n",
    "# byte is little endian\n",
    "offset_table=open(\"mnist-sparse-offset_table\",'wb') \n",
    "with tf.io.TFRecordWriter(\"mnist_sparse.tfrecords\") as writer:\n",
    "    for i in range (60000):\n",
    "        with open(images_dir+str(i)+'.jpg','rb') as f:\n",
    "            buf=mnist_labels.read(1)\n",
    "            _label=buf\n",
    "            img_bytes=f.read()            \n",
    "                \n",
    "            current_filesize=os.path.getsize(\"mnist_sparse.tfrecords\")\n",
    "            if(i%4000==0):\n",
    "                print(i,end=' ')\n",
    "                print(\"offset=\",current_filesize)\n",
    "                \n",
    "            offset_table.write(current_filesize.to_bytes(8, byteorder = 'little'))\n",
    "            \n",
    "            serialized_example = serialize_example(_label, img_bytes)\n",
    "            writer.write(serialized_example)"
   ]
  },
  {
   "cell_type": "code",
   "execution_count": 50,
   "metadata": {},
   "outputs": [
    {
     "name": "stdout",
     "output_type": "stream",
     "text": [
      "label= b'\\x05'\n"
     ]
    },
    {
     "data": {
      "image/png": "[encoded data removed]",
      "text/plain": [
       "<Figure size 432x288 with 1 Axes>"
      ]
     },
     "metadata": {
      "needs_background": "light"
     },
     "output_type": "display_data"
    },
    {
     "name": "stdout",
     "output_type": "stream",
     "text": [
      "label= b'\\x00'\n"
     ]
    },
    {
     "data": {
      "image/png": "[encoded data removed]",
      "text/plain": [
       "<Figure size 432x288 with 1 Axes>"
      ]
     },
     "metadata": {
      "needs_background": "light"
     },
     "output_type": "display_data"
    }
   ],
   "source": [
    "\"\"\" standard way to iterate tfr, to make sure the tfr format is right \"\"\"\n",
    "\n",
    "dataset = tf.data.TFRecordDataset('mnist_sparse.tfrecords')\n",
    "\n",
    "image_feature_description = {\n",
    "    'label': tf.io.FixedLenFeature([], tf.string),\n",
    "    # var len is different\n",
    "    'image': tf.io.FixedLenFeature([],tf.string),\n",
    "}\n",
    "\n",
    "def _parse_function(example_proto):\n",
    "    serialized_example = tf.io.parse_single_example(example_proto, image_feature_description)\n",
    "    return serialized_example\n",
    "\n",
    "\n",
    "for idx, features in enumerate(dataset):\n",
    "    parsed_features = _parse_function(features)\n",
    "    print(\"label=\",parsed_features['label'].numpy())    \n",
    "    image=tf.io.decode_jpeg(parsed_features['image'])\n",
    "    plt.imshow(np.asarray(image).reshape((28,28)),cmap = plt.cm.gray)                                        \n",
    "    plt.show()\n",
    "    \n",
    "    if idx>=1:\n",
    "        break"
   ]
  },
  {
   "cell_type": "code",
   "execution_count": 52,
   "metadata": {},
   "outputs": [
    {
     "name": "stdout",
     "output_type": "stream",
     "text": [
      "0\n",
      "2457808\n",
      "4913529\n",
      "7370026\n",
      "9835680\n",
      "12292118\n",
      "14758044\n",
      "17211337\n",
      "19665418\n",
      "22123890\n",
      "24585380\n",
      "27039937\n",
      "29503891\n",
      "31965363\n",
      "34421808\n"
     ]
    }
   ],
   "source": [
    "\"\"\"offset table read test\"\"\"\n",
    "\n",
    "oft=open(\"mnist-sparse-offset_table\",'rb')\n",
    "idx=5\n",
    "for i in range (60000):\n",
    "    \n",
    "    tmp=oft.read(8)\n",
    "    #print(tmp)\n",
    "    if(i%4000==0):\n",
    "        length=struct.unpack(\"<Q\",tmp)\n",
    "        print(length[0])"
   ]
  },
  {
   "cell_type": "code",
   "execution_count": 53,
   "metadata": {},
   "outputs": [],
   "source": [
    "\"\"\" the actual read() function \"\"\"\n",
    "\n",
    "def sparse_random_read(binfile, oft, idx):\n",
    "    # read offset, 8B per instance\n",
    "    #TODO: oft should be loaded to mem\n",
    "    oft.seek(idx*8,0)\n",
    "    tmp=oft.read(8)\n",
    "    offset=struct.unpack(\"<Q\",tmp)[0]\n",
    "    print(\"offset=\",offset)\n",
    "    \n",
    "    # read data length\n",
    "    binfile.seek(offset,0)\n",
    "    tmp=binfile.read(8)\n",
    "    length=struct.unpack(\"<Q\",tmp)[0]\n",
    "    print(\"length=\",length)\n",
    "    # we already read first 8B\n",
    "    record_l_from_col2=length+8\n",
    "    \n",
    "    # random read\n",
    "    tmp=binfile.read(record_l_from_col2)\n",
    "    r_data=tmp[4:-4]\n",
    "\n",
    "    # deserialize data\n",
    "    parsed_features = _parse_function(r_data)\n",
    "    return parsed_features\n",
    "    \n",
    "    "
   ]
  },
  {
   "cell_type": "code",
   "execution_count": 57,
   "metadata": {},
   "outputs": [
    {
     "name": "stdout",
     "output_type": "stream",
     "text": [
      "offset= 3970790\n",
      "length= 604\n",
      "tf.Tensor(b'\\x07', shape=(), dtype=string)\n"
     ]
    },
    {
     "data": {
      "image/png": "[encoded data removed]",
      "text/plain": [
       "<Figure size 432x288 with 1 Axes>"
      ]
     },
     "metadata": {
      "needs_background": "light"
     },
     "output_type": "display_data"
    }
   ],
   "source": [
    "\"\"\" test read() function \"\"\"\n",
    "\n",
    "binfile=open('mnist_sparse.tfrecords','rb')\n",
    "oftfile=open('mnist-sparse-offset_table','rb')\n",
    "parsed_feature=sparse_random_read(binfile,oftfile, 6455)\n",
    "image=tf.io.decode_jpeg(parsed_feature['image'])\n",
    "print(parsed_feature['label'])\n",
    "np_image=np.frombuffer(image, dtype='>B').astype(np.uint8)\n",
    "plt.imshow(np.asarray(np_image).reshape((28,28)),cmap = plt.cm.gray)                                        \n",
    "plt.show()"
   ]
  },
  {
   "cell_type": "code",
   "execution_count": null,
   "metadata": {},
   "outputs": [],
   "source": []
  }
 ],
 "metadata": {
  "kernelspec": {
   "display_name": "Python 3",
   "language": "python",
   "name": "python3"
  },
  "language_info": {
   "codemirror_mode": {
    "name": "ipython",
    "version": 3
   },
   "file_extension": ".py",
   "mimetype": "text/x-python",
   "name": "python",
   "nbconvert_exporter": "python",
   "pygments_lexer": "ipython3",
   "version": "3.8.5"
  }
 },
 "nbformat": 4,
 "nbformat_minor": 4
}
