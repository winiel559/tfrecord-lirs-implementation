{
 "cells": [
  {
   "cell_type": "code",
   "execution_count": 44,
   "metadata": {},
   "outputs": [],
   "source": [
    "import tensorflow as tf\n",
    "#https://medium.com/%E8%BB%9F%E9%AB%94%E4%B9%8B%E5%BF%83/%E9%81%A9%E5%90%88%E5%A4%A7%E9%87%8F%E8%B3%87%E6%96%99i-o%E7%9A%84%E5%84%B2%E5%AD%98%E6%A0%BC%E5%BC%8F-tfrecord%E7%B0%A1%E4%BB%8B%E8%88%87%E6%93%8D%E4%BD%9C%E6%95%99%E5%AD%B8-cd27e50d51ee\n",
    "\n",
    "# mnist one example consists of 28*28 byte + 1 byte\n",
    "# if _bytes_feature's args is alreaddy a list, no need to use []\n",
    "def _image_feature(value):\n",
    "    \"\"\"\"Returns a uint8(byte)_list from a byte.\"\"\"\n",
    "    if isinstance(value, type(tf.constant(0))):\n",
    "        # BytesList won't unpack a string from an EagerTensor.\n",
    "        value = value.numpy()\n",
    "    return tf.train.Feature(bytes_list=tf.train.BytesList(value=[value]))\n",
    "\n",
    "def _label_feature(value):\n",
    "    \"\"\"Returns a uint8(byte)_list from a byte.\"\"\"\n",
    "    return tf.train.Feature(bytes_list=tf.train.BytesList(value=[value]))"
   ]
  },
  {
   "cell_type": "code",
   "execution_count": 46,
   "metadata": {},
   "outputs": [
    {
     "name": "stdout",
     "output_type": "stream",
     "text": [
      "0 offset= 0\n",
      "4000 offset= 2457808\n",
      "8000 offset= 4913529\n",
      "12000 offset= 7370026\n",
      "16000 offset= 9835680\n",
      "20000 offset= 12292118\n",
      "24000 offset= 14758044\n",
      "28000 offset= 17211337\n",
      "32000 offset= 19665418\n",
      "36000 offset= 22123890\n",
      "40000 offset= 24585380\n",
      "44000 offset= 27039937\n",
      "48000 offset= 29503891\n",
      "52000 offset= 31965363\n",
      "56000 offset= 34421808\n"
     ]
    }
   ],
   "source": [
    "\"\"\" transfer dataset to tfrecord method\"\"\"\n",
    "# the whole image is a byte feature, not a byte list\n",
    "import os\n",
    "import struct                                                                   \n",
    "import numpy as np                                                              \n",
    "import matplotlib.pyplot as plt                                                 \n",
    "from PIL import Image\n",
    "def serialize_example(_label, _image):\n",
    "    feature = {\n",
    "        \"label\": _label_feature(_label),\n",
    "        \"image\": _image_feature(_image),\n",
    "        }\n",
    "    example_proto = tf.train.Example(features=tf.train.Features(feature=feature))\n",
    "    return example_proto.SerializeToString() \n",
    "\n",
    "images_file_name = './train-images.idx3-ubyte'\n",
    "labels_file_name = './train-labels.idx1-ubyte'\n",
    "images_dir = './mnist jpeg/'\n",
    "mnist_images=open(images_file_name,'rb')\n",
    "mnist_labels=open(labels_file_name,'rb')\n",
    "# skip header file\n",
    "_=mnist_images.read(16)\n",
    "_=mnist_labels.read(8)\n",
    "\n",
    "# data\n",
    "# build offset_table while writing TFRecords, int64 for offset of each instance, e.g. offset of instance #100 is 100*8B=800B\n",
    "# byte is little endian\n",
    "offset_table=open(\"mnist-sparse-offset_table\",'wb') \n",
    "with tf.io.TFRecordWriter(\"mnist_sparse.tfrecords\") as writer:\n",
    "    for i in range (60000):\n",
    "        with open(images_dir+str(i)+'.jpg','rb') as f:\n",
    "            buf=mnist_labels.read(1)\n",
    "            _label=buf\n",
    "            img_bytes=f.read()            \n",
    "                \n",
    "            current_filesize=os.path.getsize(\"mnist_sparse.tfrecords\")\n",
    "            if(i%4000==0):\n",
    "                print(i,end=' ')\n",
    "                print(\"offset=\",current_filesize)\n",
    "                \n",
    "            offset_table.write(current_filesize.to_bytes(8, byteorder = 'little'))\n",
    "            \n",
    "            serialized_example = serialize_example(_label, img_bytes)\n",
    "            writer.write(serialized_example)"
   ]
  },
  {
   "cell_type": "code",
   "execution_count": 50,
   "metadata": {},
   "outputs": [
    {
     "name": "stdout",
     "output_type": "stream",
     "text": [
      "label= b'\\x05'\n"
     ]
    },
    {
     "data": {
      "image/png": "[encoded data removed]",
      "text/plain": [
       "<Figure size 432x288 with 1 Axes>"
      ]
     },
     "metadata": {
      "needs_background": "light"
     },
     "output_type": "display_data"
    },
    {
     "name": "stdout",
     "output_type": "stream",
     "text": [
      "label= b'\\x00'\n"
     ]
    },
    {
     "data": {
      "image/png": "[encoded data removed]",
      "text/plain": [
       "<Figure size 432x288 with 1 Axes>"
      ]
     },
     "metadata": {
      "needs_background": "light"
     },
     "output_type": "display_data"
    }
   ],
   "source": [
    "\"\"\" standard way to iterate tfr, to make sure the tfr format is right \"\"\"\n",
    "\n",
    "dataset = tf.data.TFRecordDataset('mnist_sparse.tfrecords')\n",
    "\n",
    "image_feature_description = {\n",
    "    'label': tf.io.FixedLenFeature([], tf.string),\n",
    "    # var len is different\n",
    "    'image': tf.io.FixedLenFeature([],tf.string),\n",
    "}\n",
    "\n",
    "def _parse_function(example_proto):\n",
    "    serialized_example = tf.io.parse_single_example(example_proto, image_feature_description)\n",
    "    return serialized_example\n",
    "\n",
    "\n",
    "for idx, features in enumerate(dataset):\n",
    "    parsed_features = _parse_function(features)\n",
    "    print(\"label=\",parsed_features['label'].numpy())    \n",
    "    image=tf.io.decode_jpeg(parsed_features['image'])\n",
    "    plt.imshow(np.asarray(image).reshape((28,28)),cmap = plt.cm.gray)                                        \n",
    "    plt.show()\n",
    "    \n",
    "    if idx>=1:\n",
    "        break"
   ]
  },
  {
   "cell_type": "code",
   "execution_count": 52,
   "metadata": {},
   "outputs": [
    {
     "name": "stdout",
     "output_type": "stream",
     "text": [
      "0\n",
      "2457808\n",
      "4913529\n",
      "7370026\n",
      "9835680\n",
      "12292118\n",
      "14758044\n",
      "17211337\n",
      "19665418\n",
      "22123890\n",
      "24585380\n",
      "27039937\n",
      "29503891\n",
      "31965363\n",
      "34421808\n"
     ]
    }
   ],
   "source": [
    "\"\"\"offset table read test\"\"\"\n",
    "\n",
    "oft=open(\"mnist-sparse-offset_table\",'rb')\n",
    "idx=5\n",
    "for i in range (60000):\n",
    "    \n",
    "    tmp=oft.read(8)\n",
    "    #print(tmp)\n",
    "    if(i%4000==0):\n",
    "        length=struct.unpack(\"<Q\",tmp)\n",
    "        print(length[0])"
   ]
  },
  {
   "cell_type": "code",
   "execution_count": 53,
   "metadata": {},
   "outputs": [],
   "source": [
    "\"\"\" the actual read() function \"\"\"\n",
    "\n",
    "def sparse_random_read(binfile, oft, idx):\n",
    "    # read offset, 8B per instance\n",
    "    #TODO: oft should be loaded to mem\n",
    "    oft.seek(idx*8,0)\n",
    "    tmp=oft.read(8)\n",
    "    offset=struct.unpack(\"<Q\",tmp)[0]\n",
    "    print(\"offset=\",offset)\n",
    "    \n",
    "    # read data length\n",
    "    binfile.seek(offset,0)\n",
    "    tmp=binfile.read(8)\n",
    "    length=struct.unpack(\"<Q\",tmp)[0]\n",
    "    print(\"length=\",length)\n",
    "    # we already read first 8B\n",
    "    record_l_from_col2=length+8\n",
    "    \n",
    "    # random read\n",
    "    tmp=binfile.read(record_l_from_col2)\n",
    "    r_data=tmp[4:-4]\n",
    "\n",
    "    # deserialize data\n",
    "    parsed_features = _parse_function(r_data)\n",
    "    return parsed_features\n",
    "    \n",
    "    "
   ]
  },
  {
   "cell_type": "code",
   "execution_count": 55,
   "metadata": {},
   "outputs": [
    {
     "name": "stdout",
     "output_type": "stream",
     "text": [
      "offset= 12119\n",
      "length= 612\n",
      "{'image': <tf.Tensor: shape=(), dtype=string, numpy=b'\\xff\\xd8\\xff\\xe0\\x00\\x10JFIF\\x00\\x01\\x01\\x00\\x00\\x01\\x00\\x01\\x00\\x00\\xff\\xdb\\x00C\\x00\\x08\\x06\\x06\\x07\\x06\\x05\\x08\\x07\\x07\\x07\\t\\t\\x08\\n\\x0c\\x14\\r\\x0c\\x0b\\x0b\\x0c\\x19\\x12\\x13\\x0f\\x14\\x1d\\x1a\\x1f\\x1e\\x1d\\x1a\\x1c\\x1c $.\\' \",#\\x1c\\x1c(7),01444\\x1f\\'9=82<.342\\xff\\xc0\\x00\\x0b\\x08\\x00\\x1c\\x00\\x1c\\x01\\x01\\x11\\x00\\xff\\xc4\\x00\\x1f\\x00\\x00\\x01\\x05\\x01\\x01\\x01\\x01\\x01\\x01\\x00\\x00\\x00\\x00\\x00\\x00\\x00\\x00\\x01\\x02\\x03\\x04\\x05\\x06\\x07\\x08\\t\\n\\x0b\\xff\\xc4\\x00\\xb5\\x10\\x00\\x02\\x01\\x03\\x03\\x02\\x04\\x03\\x05\\x05\\x04\\x04\\x00\\x00\\x01}\\x01\\x02\\x03\\x00\\x04\\x11\\x05\\x12!1A\\x06\\x13Qa\\x07\"q\\x142\\x81\\x91\\xa1\\x08#B\\xb1\\xc1\\x15R\\xd1\\xf0$3br\\x82\\t\\n\\x16\\x17\\x18\\x19\\x1a%&\\'()*456789:CDEFGHIJSTUVWXYZcdefghijstuvwxyz\\x83\\x84\\x85\\x86\\x87\\x88\\x89\\x8a\\x92\\x93\\x94\\x95\\x96\\x97\\x98\\x99\\x9a\\xa2\\xa3\\xa4\\xa5\\xa6\\xa7\\xa8\\xa9\\xaa\\xb2\\xb3\\xb4\\xb5\\xb6\\xb7\\xb8\\xb9\\xba\\xc2\\xc3\\xc4\\xc5\\xc6\\xc7\\xc8\\xc9\\xca\\xd2\\xd3\\xd4\\xd5\\xd6\\xd7\\xd8\\xd9\\xda\\xe1\\xe2\\xe3\\xe4\\xe5\\xe6\\xe7\\xe8\\xe9\\xea\\xf1\\xf2\\xf3\\xf4\\xf5\\xf6\\xf7\\xf8\\xf9\\xfa\\xff\\xda\\x00\\x08\\x01\\x01\\x00\\x00?\\x00\\xf1+o\\x0fj\\xb7\\x9a\\r\\xde\\xb7oh\\xd2i\\xf6r,s\\xca\\xa4\\x1f,\\xb7L\\x8e\\xb8\\xf7\\xc6+2\\xb7\\xf5\\xaf\\n\\xddh\\xde\\x1e\\xd0\\xb5\\xa7\\x99%\\xb6\\xd5\\xe2w\\x8fh\\xc1FF\\xc1S\\x9e\\xbcm9\\xf7\\xf6\\xac\\n\\xf5\\x7f\\x81\\x9e&\\x8e\\xc7\\xc4s\\xf8kQh\\xdbL\\xd6P\\xc6c\\x91r\\x1a\\\\`\\x0c\\xff\\x00\\xb42\\xb8\\xf7\\x15bo\\x80\\x1e%\\xb9\\xf1=\\xec\\x16\\xeb\\x05\\xae\\x90\\'qos4\\xca\\xc4\\xc7\\xc9S\\xb5I>\\x83\\x9cV\\xc7\\xc7}6}\\x1b\\xc1\\x9e\\x0e\\xd2\\xd4\\xf9\\x90Y\\xa3B\\xf2\\xaa\\x85VuD\\x03\\x8e\\xd9\\xc3\\x1a\\xf0\\x8a\\xb9\\xa4\\xeaw\\x1a.\\xafg\\xa9\\xda\\x15\\x17\\x16\\x93,\\xd1\\xef\\x19\\x1b\\x94\\xe4dzWO\\xe2\\x1f\\x8a\\xbe1\\xf1\\x1b\\xff\\x00\\xa4\\xeb\\x13[C\\xda\\x0b\"aN\\x98\\xe7\\x07\\'\\xf1&\\xbd\\x13\\xc6Z\\x9e\\x95\\xe3o\\x80\\xda}\\xed\\xa5\\xf2\\x8b\\xcd\\x14\\xc0\\x93\\xc33bB\\xc1Dl1\\x9es\\x90\\xc0\\xf3\\x90\\x0f|\\xd7\\x84QE\\x14W\\xff\\xd9'>, 'label': <tf.Tensor: shape=(), dtype=string, numpy=b'\\x04'>}\n"
     ]
    }
   ],
   "source": [
    "\"\"\" test read() function \"\"\"\n",
    "\n",
    "binfile=open('mnist_sparse.tfrecords','rb')\n",
    "oftfile=open('mnist-sparse-offset_table','rb')\n",
    "a=sparse_random_read(binfile,oftfile, 20)\n",
    "\n",
    "print(a)"
   ]
  },
  {
   "cell_type": "code",
   "execution_count": null,
   "metadata": {},
   "outputs": [],
   "source": []
  }
 ],
 "metadata": {
  "kernelspec": {
   "display_name": "Python 3",
   "language": "python",
   "name": "python3"
  },
  "language_info": {
   "codemirror_mode": {
    "name": "ipython",
    "version": 3
   },
   "file_extension": ".py",
   "mimetype": "text/x-python",
   "name": "python",
   "nbconvert_exporter": "python",
   "pygments_lexer": "ipython3",
   "version": "3.8.5"
  }
 },
 "nbformat": 4,
 "nbformat_minor": 4
}
